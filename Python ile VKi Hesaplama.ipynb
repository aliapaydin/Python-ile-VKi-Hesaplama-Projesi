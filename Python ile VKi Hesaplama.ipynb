{
 "cells": [
  {
   "cell_type": "markdown",
   "metadata": {},
   "source": [
    "1 - Kullanıcıdan input ile iki veri alın. Bu veriler tamsayı ise çarpımını yazdırın. "
   ]
  },
  {
   "cell_type": "code",
   "execution_count": null,
   "metadata": {},
   "outputs": [],
   "source": [
    "fiyat = input(\"Almak istediğiniz ürünün fiyatını girin.\")\n",
    "adet = input(\"Kaç tane almak istiyorsunuz?\")\n",
    "\n",
    "if fiyat.isdigit():\n",
    "    if adet.isdigit():\n",
    "        fiyat = int(fiyat)\n",
    "        adet = int(adet)\n",
    "        toplam_tutar = fiyat * adet\n",
    "        print(\"Toplam ödeyeceğiniz tutar:\" , toplam_tutar)\n",
    "    else:\n",
    "        print(\"Adet tam sayı olarak girilmelidir.\")\n",
    "else:\n",
    "    print(\"Tutar tam sayı olarak girilmelidir.\")"
   ]
  },
  {
   "cell_type": "markdown",
   "metadata": {},
   "source": [
    "2 - Kullanıcıdan bir sayı isteyin. Sayı tek ise 2 katını çift ise karesini yazdırın. "
   ]
  },
  {
   "cell_type": "code",
   "execution_count": 38,
   "metadata": {},
   "outputs": [
    {
     "name": "stdout",
     "output_type": "stream",
     "text": [
      "Girilen sayının iki katı: 38\n"
     ]
    }
   ],
   "source": [
    "number = int(input(\"Lütfen bir sayı giriniz.\"))\n",
    "\n",
    "if number % 2 == 0:\n",
    "    kare_al = number ** 2\n",
    "    print(\"Girilen sayının karesi:\", kare_al)\n",
    "\n",
    "else:\n",
    "    iki_kat = number * 2\n",
    "    print(\"Girilen sayının iki katı:\", iki_kat)"
   ]
  },
  {
   "cell_type": "markdown",
   "metadata": {},
   "source": [
    "3 - Kullanıcıdan iki tam sayı isteyin. Sayılar eşitse veya sayıların farkı 5 in katı ise True döndüren algoritmayı yazın. "
   ]
  },
  {
   "cell_type": "code",
   "execution_count": 48,
   "metadata": {},
   "outputs": [
    {
     "name": "stdout",
     "output_type": "stream",
     "text": [
      "True\n",
      "Sayılar ya eşit ya da farkları 5'in katına eşit.\n"
     ]
    }
   ],
   "source": [
    "sayi_1 = int(input(\"İlk sayıyı yazın.\"))\n",
    "sayi_2 = int(input(\"İkinci sayıyı yazın.\"))\n",
    "\n",
    "if sayi_1 == sayi_2 or abs(sayi_1 - sayi_2) % 5 == 0:\n",
    "    sayi_esit = True\n",
    "    print(sayi_esit)\n",
    "    print(\"Sayılar ya eşit ya da farkları 5'in katına eşit.\")\n",
    "\n",
    "else:\n",
    "    sayi_esit = False\n",
    "    print(sayi_esit)\n",
    "    print(\"Sayılar ya eşit değil ya da farkları 5'in katına eşit değil.\")"
   ]
  },
  {
   "cell_type": "markdown",
   "metadata": {},
   "source": [
    "4 - Kullanıcıya sınavdan aldığı notu sorunuz. Denk gelen Harf notunu yazdırın. 0-100 aralığı        dışında girilen notların geçersiz olduğuu belirtmeyi unutmayın. \n",
    "    80 - 100 aralığı \"A\",\n",
    "    65 - 79 aralığı \"B\",\n",
    "    55 - 64 aralığı \"C\",\n",
    "    35 - 54 aralığı \"D\",\n",
    "    0 - 34 aralığı \"F\""
   ]
  },
  {
   "cell_type": "code",
   "execution_count": 49,
   "metadata": {},
   "outputs": [
    {
     "name": "stdout",
     "output_type": "stream",
     "text": [
      "Aldığın notun derecesi: B\n"
     ]
    }
   ],
   "source": [
    "score = int(input(\"Sınav notunuzu girin: \"))\n",
    "\n",
    "if score < 0 or score > 100:\n",
    "    print(\"Geçersiz not girişi yapıldı.. Lütfen 0-100 arasında bir not girin.\")\n",
    "else:\n",
    "    \n",
    "    if score >= 80:\n",
    "        degree = \"A\"\n",
    "    elif score >= 65:\n",
    "        degree = \"B\"\n",
    "    elif score >= 55:\n",
    "        degree = \"C\"\n",
    "    elif score >= 35:\n",
    "        degree = \"D\"\n",
    "    else:\n",
    "        harf_notu = \"F\"\n",
    "\n",
    "    print(f\"Aldığın notun derecesi: {degree}\")"
   ]
  },
  {
   "cell_type": "markdown",
   "metadata": {},
   "source": [
    "5 - Vücut kitle endeksini hesaplayan kodu yazınız. Hesapladığınız değerin hangi kategoride olduğunu belirtin. Örn: vki = 24, normal. Kategori aralıklarını araştırma sonucu kendiniz elde edin. "
   ]
  },
  {
   "cell_type": "code",
   "execution_count": 61,
   "metadata": {},
   "outputs": [
    {
     "name": "stdout",
     "output_type": "stream",
     "text": [
      "Vki: 24.691358024691358, Durumunuz: Normal Kilolu\n"
     ]
    }
   ],
   "source": [
    "kilo = float(input(\"Kilonuzu girin:\"))\n",
    "boy = float(input(\"Boyunuzu girin:\"))\n",
    "boy_giris = int(input(\"Boyunuzu metre olarak girdiyseniz 1 yazın. Santimetre olarak girdiyseniz 2 yazın.\"))\n",
    "\n",
    "if boy_giris == 1:\n",
    "\n",
    "    vki = (kilo / (boy ** 2))\n",
    "\n",
    "    if vki < 18.5:\n",
    "        kategori = \"Düşük Kilolu\"\n",
    "    elif 18.5 <= vki < 24.9:\n",
    "        kategori = \"Normal Kilolu\"\n",
    "    elif 25.0 <= vki < 29.9:\n",
    "        kategori = \"Fazla Kilolu\"\n",
    "    elif 30.0 <= vki < 39.9:\n",
    "        kategori = \"Obez\"\n",
    "    else:\n",
    "        kategori = \"Aşırı Obez\"\n",
    "\n",
    "else:\n",
    "    \n",
    "    vki = (kilo / ((boy/100) ** 2))\n",
    "\n",
    "    if vki < 18.5:\n",
    "        kategori = \"Düşük Kilolu\"\n",
    "    elif 18.5 <= vki < 24.9:\n",
    "        kategori = \"Normal Kilolu\"\n",
    "    elif 25.0 <= vki < 29.9:\n",
    "        kategori = \"Fazla Kilolu\"\n",
    "    elif 30.0 <= vki < 39.9:\n",
    "        kategori = \"Obez\"\n",
    "    else:\n",
    "        kategori = \"Aşırı Obez\"\n",
    "\n",
    "\n",
    "print(f\"Vki: {vki}, Durumunuz: {kategori}\")"
   ]
  }
 ],
 "metadata": {
  "kernelspec": {
   "display_name": "Python 3",
   "language": "python",
   "name": "python3"
  },
  "language_info": {
   "codemirror_mode": {
    "name": "ipython",
    "version": 3
   },
   "file_extension": ".py",
   "mimetype": "text/x-python",
   "name": "python",
   "nbconvert_exporter": "python",
   "pygments_lexer": "ipython3",
   "version": "3.10.11"
  },
  "orig_nbformat": 4
 },
 "nbformat": 4,
 "nbformat_minor": 2
}
